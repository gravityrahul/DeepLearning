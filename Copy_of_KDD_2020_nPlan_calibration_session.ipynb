{
  "nbformat": 4,
  "nbformat_minor": 0,
  "metadata": {
    "kernelspec": {
      "display_name": "Python 3",
      "language": "python",
      "name": "python3"
    },
    "language_info": {
      "codemirror_mode": {
        "name": "ipython",
        "version": 3
      },
      "file_extension": ".py",
      "mimetype": "text/x-python",
      "name": "python",
      "nbconvert_exporter": "python",
      "pygments_lexer": "ipython3",
      "version": "3.6.9"
    },
    "colab": {
      "name": "Copy of KDD 2020 - nPlan calibration session.ipynb",
      "provenance": [],
      "include_colab_link": true
    }
  },
  "cells": [
    {
      "cell_type": "markdown",
      "metadata": {
        "id": "view-in-github",
        "colab_type": "text"
      },
      "source": [
        "<a href=\"https://colab.research.google.com/github/gravityrahul/DeepLearning/blob/master/Copy_of_KDD_2020_nPlan_calibration_session.ipynb\" target=\"_parent\"><img src=\"https://colab.research.google.com/assets/colab-badge.svg\" alt=\"Open In Colab\"/></a>"
      ]
    },
    {
      "cell_type": "markdown",
      "metadata": {
        "id": "yyk-DpJGbHpj",
        "colab_type": "text"
      },
      "source": [
        "# How to calibrate your neural network classifer:\n",
        "## Getting accurate probabilities from your neural network model"
      ]
    },
    {
      "cell_type": "markdown",
      "metadata": {
        "id": "MzsrxXcAbHpk",
        "colab_type": "text"
      },
      "source": [
        "[![Open In Colab](https://colab.research.google.com/assets/colab-badge.svg)](https://colab.research.google.com/github/nplan-io/kdd2020-calibration/blob/master/tutorial/KDD%202020%20-%20nPlan%20calibration%20session.ipynb)"
      ]
    },
    {
      "cell_type": "markdown",
      "metadata": {
        "id": "4R4mxs-ybHpk",
        "colab_type": "text"
      },
      "source": [
        "## 1. Introduction"
      ]
    },
    {
      "cell_type": "markdown",
      "metadata": {
        "id": "FhGIfVqEbHpl",
        "colab_type": "text"
      },
      "source": [
        "In this tutorial we'll use the CIFAR-10 image dataset, and a classifier trained on it, to explore what model confidence calibration is, how we can measure it, and what methods we can put in place to rectify poorly calibrated models."
      ]
    },
    {
      "cell_type": "code",
      "metadata": {
        "id": "scrF-pKHbHpm",
        "colab_type": "code",
        "colab": {}
      },
      "source": [
        "# import relevant modules\n",
        "import numpy as np\n",
        "import tensorflow as tf\n",
        "from tensorflow.keras.models import load_model\n",
        "from tensorflow.keras.datasets import cifar10\n",
        "import tensorflow.keras.utils\n",
        "import matplotlib.pyplot as plt\n",
        "from sklearn.calibration import calibration_curve\n",
        "from sklearn.metrics import accuracy_score, log_loss\n",
        "from sklearn.model_selection import train_test_split\n",
        "%matplotlib inline"
      ],
      "execution_count": null,
      "outputs": []
    },
    {
      "cell_type": "code",
      "metadata": {
        "id": "n9sr1H6ebHpq",
        "colab_type": "code",
        "colab": {}
      },
      "source": [
        "# Load the CIFAR10 data.\n",
        "(x_train, y_train), (x_test, y_test) = cifar10.load_data()\n",
        "\n",
        "# we must split our data further, as calibration procedures require a holdout set\n",
        "x_val, x_test, y_val, y_test = train_test_split(x_test, y_test, test_size=0.5, shuffle=False)"
      ],
      "execution_count": null,
      "outputs": []
    },
    {
      "cell_type": "markdown",
      "metadata": {
        "id": "YI2LZ_-1bHpt",
        "colab_type": "text"
      },
      "source": [
        "#### CIFAR-10\n",
        "CIFAR-10 is a dataset containing a collection of images falling into 10 classes: airplanes, cars, birds, cats, deer, dogs, frogs, horses, ships, and trucks. It contains 60 000 low resolution (32x32) images and is often used to train ML and computer vision models. This is commonly divided into 50 000 training images and 10 000 testing images. The low resolution allows for quick testing of different models."
      ]
    },
    {
      "cell_type": "code",
      "metadata": {
        "id": "6QPd7czgbHpu",
        "colab_type": "code",
        "colab": {},
        "outputId": "b0259523-da6c-419f-e2df-ae041c592f05"
      },
      "source": [
        "plt.imshow(x_train[112,])\n",
        "plt.show()"
      ],
      "execution_count": null,
      "outputs": [
        {
          "output_type": "display_data",
          "data": {
            "image/png": "[encoded data removed]",
            "text/plain": [
              "<Figure size 432x288 with 1 Axes>"
            ]
          },
          "metadata": {
            "tags": [],
            "needs_background": "light"
          }
        }
      ]
    },
    {
      "cell_type": "markdown",
      "metadata": {
        "id": "3_cOy6fdbHpy",
        "colab_type": "text"
      },
      "source": [
        "First we need to do some preprocessing of the data. This will allow our model to achieve higher accuracy."
      ]
    },
    {
      "cell_type": "code",
      "metadata": {
        "id": "X8jC3FxMbHpy",
        "colab_type": "code",
        "colab": {}
      },
      "source": [
        "# Normalize data.\n",
        "x_train = x_train.astype('float32') / 255\n",
        "x_val = x_val.astype('float32') / 255\n",
        "x_test = x_test.astype('float32') / 255\n",
        "\n",
        "# If subtract pixel mean from each image\n",
        "x_train_mean = np.mean(x_train, axis=0)\n",
        "x_train -= x_train_mean\n",
        "x_val -= x_train_mean\n",
        "x_test -= x_train_mean\n",
        "\n",
        "# translate data to categorical\n",
        "y_train_labels = y_train\n",
        "y_val_labels = y_val\n",
        "y_test_labels = y_test\n",
        "\n",
        "y_train = tensorflow.keras.utils.to_categorical(y_train, 10)\n",
        "y_val = tensorflow.keras.utils.to_categorical(y_val, 10)\n",
        "y_test = tensorflow.keras.utils.to_categorical(y_test, 10)"
      ],
      "execution_count": null,
      "outputs": []
    },
    {
      "cell_type": "markdown",
      "metadata": {
        "id": "UN0KfL_FbHp1",
        "colab_type": "text"
      },
      "source": [
        "#### The models\n",
        "The obvious next step would be training a model but as we have limited time and resources, we will be using two pre-trained models:\n",
        "- [Keras ResNet model](https://github.com/keras-team/keras/blob/master/examples/cifar10_resnet.py)\n",
        "- [A binary simplification of this model - that tries to discriminate between dogs and cats!](fill_me)"
      ]
    },
    {
      "cell_type": "code",
      "metadata": {
        "id": "Aj5MfQ9QbHp1",
        "colab_type": "code",
        "colab": {}
      },
      "source": [
        "# model = Model(<some layers>)\n",
        "# ...\n",
        "# model.fit(x_train, y_train)\n",
        "# ...\n",
        "# model.evaluate(x_test,y_test)\n",
        "#"
      ],
      "execution_count": null,
      "outputs": []
    },
    {
      "cell_type": "code",
      "metadata": {
        "id": "eDHB2E22bHp4",
        "colab_type": "code",
        "colab": {},
        "outputId": "f55d9d4f-f455-494c-9b03-9cef09d0a15d"
      },
      "source": [
        "# download and load the pretrained models\n",
        "model_file = tensorflow.keras.utils.get_file('/tmp/KDD_model_1',\n",
        "         'https://raw.githubusercontent.com/nplan-io/kdd2020-calibration/master/tutorial/cifar10_resnet')\n",
        "multiclass_model = load_model(model_file)\n",
        "\n",
        "h5file = tensorflow.keras.utils.get_file('/tmp/KDD_model_2.h5',\n",
        "         'https://raw.githubusercontent.com/nplan-io/kdd2020-calibration/master/tutorial/cifar10_resnet_binary.h5')\n",
        "binary_model = load_model(h5file)"
      ],
      "execution_count": null,
      "outputs": [
        {
          "output_type": "stream",
          "text": [
            "Downloading data from https://raw.githubusercontent.com/nplan-io/kdd2020-calibration/master/tutorial/cifar10_resnet\n",
            "3678208/3674664 [==============================] - 1s 0us/step\n"
          ],
          "name": "stdout"
        }
      ]
    },
    {
      "cell_type": "code",
      "metadata": {
        "id": "CGB_GyCwbHp7",
        "colab_type": "code",
        "colab": {}
      },
      "source": [
        "# manipulate the full data set to create a subset of images of cats (class 3)\n",
        "# and dogs (class 5) to use with the binary classifier\n",
        "x_val_binary = x_val[(y_val_labels==3).flatten()|(y_val_labels==5).flatten(),:,:]\n",
        "x_test_binary =  x_test[(y_test_labels==3).flatten()|(y_test_labels==5).flatten(),:,:]\n",
        "\n",
        "y_val_binary = y_val_labels[(y_val_labels==3).flatten()|(y_val_labels==5).flatten()]\n",
        "y_test_binary = y_test_labels[(y_test_labels==3).flatten()|(y_test_labels==5).flatten()]\n",
        "\n",
        "# our binary classifier will have target labels of 1 for cat and 0 for dog\n",
        "y_val_binary = [1 if target == 3 else 0 for target in y_val_binary]\n",
        "y_test_binary = [1 if target == 3 else 0 for target in y_test_binary]"
      ],
      "execution_count": null,
      "outputs": []
    },
    {
      "cell_type": "markdown",
      "metadata": {
        "id": "fGac_2zUbHp9",
        "colab_type": "text"
      },
      "source": [
        "Predicting on the test set shows that our models have fairly high accuracy, but tells us nothing about how uncertain the model is:"
      ]
    },
    {
      "cell_type": "code",
      "metadata": {
        "id": "Y85IDiFMbHp-",
        "colab_type": "code",
        "colab": {}
      },
      "source": [
        "y_pred_binary = binary_model.predict(x_val_binary)\n",
        "acc_score = accuracy_score(y_val_binary, y_pred_binary>0.5)\n",
        "loss_score = log_loss(y_val_binary, y_pred_binary)\n",
        "print('Binary metrics: validation accuracy is {0:.2f}, validation loss is {1:.2f}'.format(acc_score, loss_score))"
      ],
      "execution_count": null,
      "outputs": []
    },
    {
      "cell_type": "code",
      "metadata": {
        "id": "d-T0a180bHqA",
        "colab_type": "code",
        "colab": {}
      },
      "source": [
        "y_pred = multiclass_model.predict(x_val)\n",
        "acc_score = accuracy_score(np.argmax(y_val,1),np.argmax(y_pred,1))\n",
        "loss_score = log_loss(y_val, y_pred)\n",
        "print('Multiclass metrics: validation accuracy is {0:.2f}, validation loss is {1:.2f}'.format(acc_score, loss_score))"
      ],
      "execution_count": null,
      "outputs": []
    },
    {
      "cell_type": "markdown",
      "metadata": {
        "id": "Pv2JbiQXbHqD",
        "colab_type": "text"
      },
      "source": [
        "## 2. Understanding and measuring calibration - binary problems"
      ]
    },
    {
      "cell_type": "markdown",
      "metadata": {
        "id": "19AV07VjbHqE",
        "colab_type": "text"
      },
      "source": [
        "A lot of calibration concepts were devised in binary problems, so we'll explore them using our binary model first."
      ]
    },
    {
      "cell_type": "markdown",
      "metadata": {
        "id": "IhGbr3UObHqE",
        "colab_type": "text"
      },
      "source": [
        "### 2.1 Reliability diagrams\n",
        "Can you use `calibration_curve()` from scikit-learn to show how calibrated the model is on our data? Return two arrays, `prob_true_binary` and `prob_pred_binary`. How would you interpret the results?"
      ]
    },
    {
      "cell_type": "code",
      "metadata": {
        "id": "R5avrbzTbHqE",
        "colab_type": "code",
        "colab": {}
      },
      "source": [
        "### YOUR CODE HERE\n"
      ],
      "execution_count": null,
      "outputs": []
    },
    {
      "cell_type": "markdown",
      "metadata": {
        "id": "WzmvoZ8LbHqH",
        "colab_type": "text"
      },
      "source": [
        "### 2.2 Expected calibration error\n",
        "Given the explanation of ECE, can you calculate the error for our dataset?"
      ]
    },
    {
      "cell_type": "code",
      "metadata": {
        "id": "OZSi7ckobHqI",
        "colab_type": "code",
        "colab": {}
      },
      "source": [
        "# complete this function to calculate ece\n",
        "def ece_calculation_binary(prob_true, prob_pred, bin_sizes):\n",
        "    ### YOUR CODE HERE\n",
        "    pass\n",
        "\n",
        "# print the calculated ece\n",
        "n_bins_binary = len(prob_true_binary)\n",
        "pred_hist = np.histogram(a=y_pred_binary, range=(0, 1), bins=n_bins_binary)[0]     \n",
        "print(ece_calculation_binary(prob_true, prob_pred, pred_hist))"
      ],
      "execution_count": null,
      "outputs": []
    },
    {
      "cell_type": "markdown",
      "metadata": {
        "id": "AKcGCRVXbHqK",
        "colab_type": "text"
      },
      "source": [
        "### 2.3 Maximum calibration error\n",
        "Given the explanation of MCE, can you calculate it for our model?"
      ]
    },
    {
      "cell_type": "code",
      "metadata": {
        "id": "pcLwiK9dbHqK",
        "colab_type": "code",
        "colab": {}
      },
      "source": [
        "# complete this function to calculate mce\n",
        "def mce_calculation_binary(prob_true, prob_pred, bin_sizes):\n",
        "    ### YOUR CODE HERE \n",
        "    pass\n",
        "\n",
        "#print the calculated mce\n",
        "print(mce_calculation_binary(prob_true, prob_pred, pred_hist))"
      ],
      "execution_count": null,
      "outputs": []
    },
    {
      "cell_type": "markdown",
      "metadata": {
        "id": "fp_uoyF0bHqM",
        "colab_type": "text"
      },
      "source": [
        "### 2.4 Root mean square calibration error\n",
        "Given the explanation, can you calculate RMSCE for our data?"
      ]
    },
    {
      "cell_type": "code",
      "metadata": {
        "id": "vkGUoAKWbHqN",
        "colab_type": "code",
        "colab": {}
      },
      "source": [
        "# complete this function to calculate rmsce\n",
        "def rmsce_calculation_binary(prob_true, prob_pred, bin_sizes):\n",
        "    ### YOUR CODE HERE \n",
        "    pass\n",
        "\n",
        "# print the calculated rmsce\n",
        "print(rmsce_calculation_binary(prob_true, prob_pred, pred_hist))"
      ],
      "execution_count": null,
      "outputs": []
    },
    {
      "cell_type": "markdown",
      "metadata": {
        "id": "104OsgBkbHqP",
        "colab_type": "text"
      },
      "source": [
        "## 3. Multiclass problems\n",
        "Extending the definition of these metrics, we can use them for multiclass classifiers, too. Can you show the reliability diagrams and calculate the calibration errors for the 10 classes?"
      ]
    },
    {
      "cell_type": "code",
      "metadata": {
        "id": "5Za5j3bqbHqQ",
        "colab_type": "code",
        "colab": {}
      },
      "source": [
        "### YOUR CODE HERE\n",
        "\n",
        "\n",
        "def ece_calculation_multiclass():\n",
        "    ### use calibration_curve and your binary function to complete this function\n",
        "    pass\n",
        "    \n",
        "def mce_calculation_multiclass():\n",
        "    ### use calibration_curve and your binary function to complete this function\n",
        "    pass\n",
        "    \n",
        "def rmsce_calculation_multiclass():\n",
        "    ### use calibration_curve and your binary function to complete this function\n",
        "    pass"
      ],
      "execution_count": null,
      "outputs": []
    },
    {
      "cell_type": "markdown",
      "metadata": {
        "id": "OOtFZVtEbHqS",
        "colab_type": "text"
      },
      "source": [
        "## 4. Post-training calibration methods - binary problems\n",
        "One way to mitigate a poorly calibrated model is through a post-hoc calibration method. In general, we seek a function to translate some output of our model into a calibrated probability. These come in several flavours - first we look at the binary problem, as before."
      ]
    },
    {
      "cell_type": "markdown",
      "metadata": {
        "id": "Qb3eBnK_bHqS",
        "colab_type": "text"
      },
      "source": [
        "### 4.1 Non-parametric methods (Isotonic regression)\n",
        "Given the description of isotonic regression, can you fit a stepwise constant, monotonically increasing function to the bucketed softmax data? Again, scikit-learn may be useful. Plot your result on the reliability diagram."
      ]
    },
    {
      "cell_type": "code",
      "metadata": {
        "id": "vRySH-I2bHqT",
        "colab_type": "code",
        "colab": {}
      },
      "source": [
        "## YOUR CODE HERE\n"
      ],
      "execution_count": null,
      "outputs": []
    },
    {
      "cell_type": "markdown",
      "metadata": {
        "id": "8NYL4-bJbHqV",
        "colab_type": "text"
      },
      "source": [
        "### 4.2 Platt scaling\n",
        "Now, based on the explanation, can you implement binary platt scaling for our binary classifier?\n",
        "\n",
        "[Hint - you do not necessarily need to rerun the model, and can run `scipy.special.logit()` on `y_pred_binary` to return the vector of logits]\n",
        "\n",
        "How did it improve the calibration? "
      ]
    },
    {
      "cell_type": "code",
      "metadata": {
        "id": "7woSrDSebHqW",
        "colab_type": "code",
        "colab": {}
      },
      "source": [
        "### YOUR CODE HERE \n"
      ],
      "execution_count": null,
      "outputs": []
    },
    {
      "cell_type": "markdown",
      "metadata": {
        "id": "LgXB-g3jbHqX",
        "colab_type": "text"
      },
      "source": [
        "## 5 Calibrating multiclass models\n",
        "\n",
        "Extending to the multiclass case is not simple. Several methods have been suggested, which include treating each class as a one-vs-all binary problem, calibrating it, and then normalising the new calibrated values across classes. Another idea is to generalise Platt Scaling from a one dimensional linear optimisation problem - we will discuss this below."
      ]
    },
    {
      "cell_type": "markdown",
      "metadata": {
        "id": "tpNbwbPabHqY",
        "colab_type": "text"
      },
      "source": [
        "## 5.1 Example - temperature scaling\n",
        "\n",
        "A simple generalisation of Platt scaling to the multiclass case is to tune a single parameter based on the logits of the network, in order to try to optimise NLL - this is temperature scaling. First we need to access the logits of our network. We do this in Keras as follows:"
      ]
    },
    {
      "cell_type": "code",
      "metadata": {
        "id": "4O6i8y8rbHqY",
        "colab_type": "code",
        "colab": {}
      },
      "source": [
        "# copy the model\n",
        "new_model = multiclass_model\n",
        "\n",
        "# get the tensor input to the final dense layer of the model\n",
        "pre_dense_out = new_model.layers[-2].output\n",
        "\n",
        "# reapply a final Dense layer - but this time with no softmax activation\n",
        "# set its weights to match the old model's dense layers\n",
        "pre_soft_out = tf.keras.layers.Dense(10, activation=None)(pre_dense_out)\n",
        "new_model = tf.keras.Model(inputs=new_model.input, outputs=pre_soft_out)\n",
        "new_model.layers[-1].set_weights(multiclass_model.layers[-1].get_weights())"
      ],
      "execution_count": null,
      "outputs": []
    },
    {
      "cell_type": "code",
      "metadata": {
        "id": "rSw-s62ybHqa",
        "colab_type": "code",
        "colab": {}
      },
      "source": [
        "# we need to compile the model to predict from it\n",
        "new_model.compile(optimizer=\"Adam\",\n",
        "              loss='categorical_crossentropy',\n",
        "              metrics=['accuracy'])"
      ],
      "execution_count": null,
      "outputs": []
    },
    {
      "cell_type": "code",
      "metadata": {
        "id": "leDV5tpabHqc",
        "colab_type": "code",
        "colab": {}
      },
      "source": [
        "y_logit = new_model.predict(x_val)"
      ],
      "execution_count": null,
      "outputs": []
    },
    {
      "cell_type": "markdown",
      "metadata": {
        "id": "kPhOk13MbHqe",
        "colab_type": "text"
      },
      "source": [
        "We now have the logits for the validation set of our network. Following the logic of our binary platt scaling example, we now need to define the function to be optimised:"
      ]
    },
    {
      "cell_type": "code",
      "metadata": {
        "id": "zz2WZo6IbHqe",
        "colab_type": "code",
        "colab": {}
      },
      "source": [
        "from scipy.special import softmax\n",
        "from sklearn.metrics import log_loss\n",
        "\n",
        "def scale_fun_ce(x, *args):\n",
        "    \"\"\"Returns the NLL of the model over the validation set when scaled\n",
        "    by the t parameter\n",
        "    \"\"\"\n",
        "    t = x[0]\n",
        "    y_logit_scaled = y_logit/t\n",
        "    y_pred_inner = softmax(y_logit_scaled, axis=1)\n",
        "    return log_loss(y_val, y_pred_inner)"
      ],
      "execution_count": null,
      "outputs": []
    },
    {
      "cell_type": "code",
      "metadata": {
        "id": "MCJwNYR7bHqg",
        "colab_type": "code",
        "colab": {}
      },
      "source": [
        "from scipy.optimize import minimize\n",
        "\n",
        "min_obj = minimize(scale_fun_ce,[1],method='Nelder-Mead',options={'xatol': 1e-13, 'disp': True})\n",
        "min_obj.x[0]"
      ],
      "execution_count": null,
      "outputs": []
    },
    {
      "cell_type": "code",
      "metadata": {
        "id": "JndUhJC0bHqj",
        "colab_type": "code",
        "colab": {}
      },
      "source": [
        "# evaluate calibration on test set\n",
        "y_logit_test = new_model.predict(x_test)\n",
        "y_test_pred = multiclass_model.predict(x_test)\n",
        "\n",
        "# use learned scaling param to scale logits, and apply softmax\n",
        "temp_scaled = y_logit_test/min_obj.x[0]\n",
        "y_pred_test_corr = softmax(temp_scaled, axis=1)\n",
        "\n",
        "# plot pre-calibration reliability diag\n",
        "prob_true, prob_pred = calibration_curve(y_test.flatten(), y_test_pred.flatten(), n_bins=10)\n",
        "plot_reliability_diagram(prob_true, prob_pred, \"All softmax outs - uncalibrated\")\n",
        "bin_sizes = np.histogram(a=y_pred.flatten(), range=(0, 1), bins=10)[0]\n",
        "print(\"Uncal. RMSCE: \", rmsce_calculation_binary(prob_true, prob_pred, bin_sizes))\n",
        "\n",
        "# plot post-calibration reliability diag\n",
        "prob_true, prob_pred = calibration_curve(y_test.flatten(), y_pred_test_corr.flatten(), n_bins=10)\n",
        "plot_reliability_diagram(prob_true, prob_pred, \"All softmax outs - calibrated\")\n",
        "bin_sizes = np.histogram(a=y_pred.flatten(), range=(0, 1), bins=10)[0]\n",
        "print(\"Calib. RMSCE: \", rmsce_calculation_binary(prob_true, prob_pred, bin_sizes))"
      ],
      "execution_count": null,
      "outputs": []
    },
    {
      "cell_type": "markdown",
      "metadata": {
        "id": "Dw16TZzqbHql",
        "colab_type": "text"
      },
      "source": [
        "### 5.2 Implementing another method\n",
        "Now it's your turn. Implement and evaluate a calibration method on the multiclass classifier. Based on the explanations you can use either matrix or vector scaling."
      ]
    },
    {
      "cell_type": "code",
      "metadata": {
        "id": "ry5SkxZlbHql",
        "colab_type": "code",
        "colab": {}
      },
      "source": [
        "# Use y_logit (calculated above) and complete the following function \n",
        "# to scale by a list of input params\n",
        "\n",
        "def scale_fun_mat_or_vec(x, *args):\n",
        "    \"\"\"Returns the NLL of the model over the validation set when scaled\n",
        "    by matrix or vector parameters\n",
        "    \"\"\"\n",
        "    # your x list should have as many values as your matrix and vector have\n",
        "    # use np.reshape or otherwise to retrieve an array from x\n",
        "    \n",
        "    y_logit_scaled = y_logit # do your scaling here - either matrix or dot product\n",
        "    y_pred_inner = softmax(y_logit_scaled, axis=1)\n",
        "    return log_loss(y_val, y_pred_inner)"
      ],
      "execution_count": null,
      "outputs": []
    },
    {
      "cell_type": "code",
      "metadata": {
        "id": "WizeUQ4PbHqn",
        "colab_type": "code",
        "colab": {}
      },
      "source": [
        "# use scipy.optimize.minimize() to minimize your function here, as above"
      ],
      "execution_count": null,
      "outputs": []
    },
    {
      "cell_type": "code",
      "metadata": {
        "id": "u7J-1qowbHqp",
        "colab_type": "code",
        "colab": {}
      },
      "source": [
        "# alter the code from the evaluation cell above to use your new scaling to assess the performance"
      ],
      "execution_count": null,
      "outputs": []
    }
  ]
}